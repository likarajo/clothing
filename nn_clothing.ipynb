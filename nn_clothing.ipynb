{
  "nbformat": 4,
  "nbformat_minor": 0,
  "metadata": {
    "colab": {
      "name": "nn_clothing.ipynb",
      "provenance": [],
      "collapsed_sections": []
    },
    "kernelspec": {
      "name": "python3",
      "display_name": "Python 3"
    }
  },
  "cells": [
    {
      "cell_type": "markdown",
      "metadata": {
        "id": "Fu8TXFXiksaw"
      },
      "source": [
        "# Neural Networks\n",
        "\n",
        "* Train a neural network to recognize items of clothing.\n",
        "* This is limited because it requires the clothing item to be the only thing in the picture, and it has to be centered."
      ]
    },
    {
      "cell_type": "code",
      "metadata": {
        "id": "3GK_3hgVk3-2"
      },
      "source": [
        "import tensorflow as tf\n",
        "import matplotlib.pyplot as plt"
      ],
      "execution_count": null,
      "outputs": []
    },
    {
      "cell_type": "markdown",
      "metadata": {
        "id": "PoZXn_nplxLZ"
      },
      "source": [
        "## Get data\n",
        "**Fashion MNIST dataset.**: It contains 70,000 items of clothing in 10 different categories. Each item of clothing is in a 28x28 grayscale image."
      ]
    },
    {
      "cell_type": "code",
      "metadata": {
        "colab": {
          "base_uri": "https://localhost:8080/",
          "height": 282
        },
        "id": "nfgr4QkrlbV1",
        "outputId": "5010c039-088f-44fe-d851-9c792105fe98"
      },
      "source": [
        "mnist = tf.keras.datasets.fashion_mnist\n",
        "(X_trn, y_trn), (X_tst, y_tst) = mnist.load_data()\n",
        "plt.imshow(X_trn[0])"
      ],
      "execution_count": null,
      "outputs": [
        {
          "output_type": "execute_result",
          "data": {
            "text/plain": [
              "<matplotlib.image.AxesImage at 0x7f2bc9f7c668>"
            ]
          },
          "metadata": {
            "tags": []
          },
          "execution_count": 4
        },
        {
          "output_type": "display_data",
          "data": {
            "image/png": "[encoded data removed]",
            "text/plain": [
              "<Figure size 432x288 with 1 Axes>"
            ]
          },
          "metadata": {
            "tags": [],
            "needs_background": "light"
          }
        }
      ]
    },
    {
      "cell_type": "markdown",
      "metadata": {
        "id": "BzY4-YOnlz-6"
      },
      "source": [
        "## Normalize features\n",
        "* When training a neural network, it's easier to treat all values as between 0 and 1. Scaling the features to a common level, so that **all the features have similar weight and same importance**.\n",
        "\n",
        "* It is **not necessary that normalization always increases accuracy**. It may or might not. Again it depends on at which stage in your training you apply normalization, on whether you apply normalization after every activation, etc.\n",
        "\n",
        "* As the range of the values of the features gets narrowed down to a particular range because of normalization, its easy to perform computations over a smaller range of values. So, **usually the model gets trained a bit faster**."
      ]
    },
    {
      "cell_type": "code",
      "metadata": {
        "id": "uHST-DCPlnVh"
      },
      "source": [
        "X_trn = X_trn/255.0\n",
        "X_tst = X_tst/255.0"
      ],
      "execution_count": null,
      "outputs": []
    },
    {
      "cell_type": "markdown",
      "metadata": {
        "id": "lbCk8Bx9mO2f"
      },
      "source": [
        "## Create Model\n",
        "* **Sequential**: defines a sequence of layers in the neural network.\n",
        "* **Flatten**: takes a square matrix and turns it into a 1D vector.\n",
        "* **Dense**: adds a layer of neurons.\n",
        "* **Activation function**: tells a layer of neurons what to do.\n",
        "  * *ReLu*: If X is greater than 0 return X, else return 0. It only passes values of 0 or greater to the next layer in the network.\n",
        "  * *Softmax*: Takes a set of values, and effectively returns the biggest one. \n",
        "\n",
        "### Rules of thumb:\n",
        "* **The first layer in your network should be the same shape as your data**.\n",
        "  * Here, the data is 28x28 images, and 28 layers of 28 neurons would be infeasible. So, it makes more sense to flatten that 28x28 into a 784x1.\n",
        "* **The number of neurons in the last layer should match the number of classes you are classifying for**. \n",
        "  * In this case, it's the digits 0 through 9, so there are 10 of them, and hence you should have 10 neurons in your final layer.\n",
        "* **For far more complex data, extra layers or more neurons are often necessary**.\n",
        "\n",
        "\n"
      ]
    },
    {
      "cell_type": "code",
      "metadata": {
        "id": "Oe0uoYKBmJAP"
      },
      "source": [
        "model = tf.keras.models.Sequential([\n",
        "  tf.keras.layers.Flatten(), # layer 1: flatten the input sq matrix\n",
        "  tf.keras.layers.Dense(256, activation=tf.nn.relu), # layer 2: 128 neurons\n",
        "  tf.keras.layers.Dense(10, activation=tf.nn.softmax) # layer 3: 10 output neurons\n",
        "])"
      ],
      "execution_count": null,
      "outputs": []
    },
    {
      "cell_type": "markdown",
      "metadata": {
        "id": "An3ZFrf-oZNi"
      },
      "source": [
        "## Compile the Model\n",
        "* **Loss function** = *Sparse categorical crossentropy*\n",
        "* **Metrics** = *Accuracy*\n",
        "* **Optimizer** = *Adam*"
      ]
    },
    {
      "cell_type": "code",
      "metadata": {
        "id": "rLhWsU1CoO3P"
      },
      "source": [
        "model.compile(\n",
        "    loss = 'sparse_categorical_crossentropy',\n",
        "    metrics = ['accuracy'],\n",
        "    optimizer = 'Adam'\n",
        ")"
      ],
      "execution_count": null,
      "outputs": []
    },
    {
      "cell_type": "markdown",
      "metadata": {
        "id": "U3INZu2qpHCV"
      },
      "source": [
        "## Train the Model\n",
        "\n",
        "* **Accuracy usually increases with number of epochs** provided that your model doesn't start ***over-fitting***.\n",
        "* **Callback**: Stop the training when you reach a desired value of accuracy, such as 90% accuracy.\n",
        "\n",
        "### Overfitting\n",
        "\n",
        "Overfitting occurs when **the network learns the data from the training set too well**, so it's **specialised to recognize only that data, and as a result is less effective at seeing other data in more general situations***."
      ]
    },
    {
      "cell_type": "code",
      "metadata": {
        "colab": {
          "base_uri": "https://localhost:8080/"
        },
        "id": "hXq1jqilpEtf",
        "outputId": "4eb57a20-7bf7-45b1-e813-9dadc295a7c9"
      },
      "source": [
        "class myCallback90(tf.keras.callbacks.Callback):\n",
        "  def on_epoch_end(self, epoch, logs={}):\n",
        "    if(logs.get('accuracy')>0.90):\n",
        "      print(\"\\nReached 90% accuracy so cancelling training!\")\n",
        "      self.model.stop_training = True\n",
        "\n",
        "callback = myCallback90()\n",
        "\n",
        "model.fit(X_trn, y_trn, epochs=10, callbacks=[callback])"
      ],
      "execution_count": null,
      "outputs": [
        {
          "output_type": "stream",
          "text": [
            "Epoch 1/10\n",
            "1875/1875 [==============================] - 5s 2ms/step - loss: 0.6100 - accuracy: 0.7859\n",
            "Epoch 2/10\n",
            "1875/1875 [==============================] - 5s 2ms/step - loss: 0.3777 - accuracy: 0.8638\n",
            "Epoch 3/10\n",
            "1875/1875 [==============================] - 5s 2ms/step - loss: 0.3317 - accuracy: 0.8782\n",
            "Epoch 4/10\n",
            "1875/1875 [==============================] - 4s 2ms/step - loss: 0.3033 - accuracy: 0.8875\n",
            "Epoch 5/10\n",
            "1875/1875 [==============================] - 4s 2ms/step - loss: 0.2802 - accuracy: 0.8963\n",
            "Epoch 6/10\n",
            "1875/1875 [==============================] - 5s 2ms/step - loss: 0.2696 - accuracy: 0.9001\n",
            "Epoch 7/10\n",
            "1875/1875 [==============================] - 5s 2ms/step - loss: 0.2579 - accuracy: 0.9038\n",
            "\n",
            "Reached 90% accuracy so cancelling training!\n"
          ],
          "name": "stdout"
        },
        {
          "output_type": "execute_result",
          "data": {
            "text/plain": [
              "<tensorflow.python.keras.callbacks.History at 0x7f2bb3065400>"
            ]
          },
          "metadata": {
            "tags": []
          },
          "execution_count": 24
        }
      ]
    },
    {
      "cell_type": "markdown",
      "metadata": {
        "id": "tUU9kR_rpoZ_"
      },
      "source": [
        "## Test the Model"
      ]
    },
    {
      "cell_type": "code",
      "metadata": {
        "colab": {
          "base_uri": "https://localhost:8080/"
        },
        "id": "_6Q9qY1QpQoX",
        "outputId": "2720dedf-97a7-4740-c417-ffdfa3387066"
      },
      "source": [
        "model.evaluate(X_tst, y_tst)"
      ],
      "execution_count": null,
      "outputs": [
        {
          "output_type": "stream",
          "text": [
            "313/313 [==============================] - 0s 1ms/step - loss: 0.3559 - accuracy: 0.8748\n"
          ],
          "name": "stdout"
        },
        {
          "output_type": "execute_result",
          "data": {
            "text/plain": [
              "[0.35586607456207275, 0.8748000264167786]"
            ]
          },
          "metadata": {
            "tags": []
          },
          "execution_count": 25
        }
      ]
    },
    {
      "cell_type": "markdown",
      "metadata": {
        "id": "QcviiNSWqARr"
      },
      "source": [
        "## Make Prediction\n",
        "* The output of the model is a list of 10 numbers. \n",
        "* Those numbers are a probability that the value being classified is the corresponding label.\n",
        "* They are all very low probabilities except one.\n",
        "* Because of Softmax, all the probabilities in the list sum to 1.0."
      ]
    },
    {
      "cell_type": "code",
      "metadata": {
        "colab": {
          "base_uri": "https://localhost:8080/"
        },
        "id": "I1xk1xHmpvEd",
        "outputId": "1d9f74b8-34e1-4a66-87a8-079f15d09b58"
      },
      "source": [
        "predictions = model.predict(X_tst)\n",
        "print(\"Prediction: \", predictions[0].tolist().index(max(predictions[0])))\n",
        "print(\"Label: \", y_tst[0])"
      ],
      "execution_count": null,
      "outputs": [
        {
          "output_type": "stream",
          "text": [
            "Prediction:  9\n",
            "Label:  9\n"
          ],
          "name": "stdout"
        }
      ]
    }
  ]
}